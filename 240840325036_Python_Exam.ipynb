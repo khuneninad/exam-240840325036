{
 "cells": [
  {
   "cell_type": "markdown",
   "id": "ea0bc31c-3652-487a-a9e6-385ee104cbcd",
   "metadata": {},
   "source": [
    "## Name: Ninad Khune\n",
    "## Exam: Python Module Re-Exam\n",
    "## PRN: 240840325036"
   ]
  },
  {
   "cell_type": "markdown",
   "id": "9b6fa06a-c634-4d65-881b-399bccbd5ad7",
   "metadata": {},
   "source": [
    "##### Description:(15 Marks)\n",
    "##### 1. Given a string s containing words separated by spaces, reverse the order of words in the string. The words should be in their original order but appear in reversed sequence. The string does not contain leading or trailing spaces, and there is exactly one space between words.\n",
    "##### Example 1:\n",
    "##### Input: s = \"the sky is blue\"\n",
    "##### Output: \"blue is sky the\"\n",
    "##### Example 2:\n",
    "##### Input: s = \"hello world\"\n",
    "##### Output: \"world hello\" "
   ]
  },
  {
   "cell_type": "code",
   "execution_count": 6,
   "id": "d57162d6-a46a-40f3-bbfd-ce642ea8be74",
   "metadata": {},
   "outputs": [
    {
     "name": "stdout",
     "output_type": "stream",
     "text": [
      "blue is sky the\n",
      "world hello\n"
     ]
    }
   ],
   "source": [
    "def reverse_words(s):\n",
    "    words = []\n",
    "    start = 0\n",
    "\n",
    "    for i in range(len(s)):\n",
    "        if s[i] == ' ':\n",
    "            if start < i:\n",
    "                words.append(s[start:i])\n",
    "            start = i + 1\n",
    "        elif i == len(s) - 1:\n",
    "            words.append(s[start:i + 1])\n",
    "\n",
    "    reversed_words = words[::-1]\n",
    "    reversed_string = ' '.join(reversed_words)\n",
    "    return reversed_string\n",
    "\n",
    "s1 = \"the sky is blue\"\n",
    "s2 = \"hello world\"\n",
    "\n",
    "print(reverse_words(s1)) \n",
    "print(reverse_words(s2))  \n"
   ]
  },
  {
   "cell_type": "markdown",
   "id": "769701c6-a67a-4fc0-815b-694803287b38",
   "metadata": {},
   "source": [
    "##### Description: (15 Marks)\n",
    "##### 2. Write a Python program to count the number of prime numbers less than a given non-negative integer n.\n",
    "##### Constraints:\n",
    "##### 0 ≤ n ≤ 5 * 10^6\n",
    "##### Example 1: \n",
    "##### Input: (10)\n",
    "##### Output: 4\n",
    "##### (Prime numbers less than 10: 2, 3, 5, 7)\n",
    "##### Example 2:\n",
    "##### Input: (100)\n",
    "##### Output: 25\n",
    "##### (Prime numbers less than 100: 2, 3, 5, 7, 11, ..., 97)"
   ]
  },
  {
   "cell_type": "code",
   "execution_count": 12,
   "id": "d863dbe7-48fc-4d36-902c-69e0b9b79c74",
   "metadata": {},
   "outputs": [
    {
     "name": "stdout",
     "output_type": "stream",
     "text": [
      "4\n",
      "25\n"
     ]
    }
   ],
   "source": [
    "def is_prime(num):\n",
    "    if num <= 1:\n",
    "        return False\n",
    "    for i in range(2, int(num ** 0.5) + 1):\n",
    "        if num % i == 0:\n",
    "            return False\n",
    "    return True\n",
    "\n",
    "def count_primes(n):\n",
    "    prime_count = 0\n",
    "    for num in range(2, n):\n",
    "        if is_prime(num):\n",
    "            prime_count += 1\n",
    "    return prime_count\n",
    "\n",
    "print(count_primes(10)) \n",
    "print(count_primes(100))"
   ]
  },
  {
   "cell_type": "markdown",
   "id": "5443f6b8-0eb0-4411-ba57-243a9625c575",
   "metadata": {},
   "source": [
    "##### Problem Statement: (10 Marks)\n",
    "##### 3. A data analysis tool needs to find common elements between two datasets. Given two integer arrays nums1 and nums2, return a list containing only the elements present in both arrays.\n",
    "##### Example Scenarios\n",
    "##### Example 1:\n",
    "##### Input: nums1 = [1, 2, 2, 1], nums2 = [2, 2]\n",
    "##### Output: [2]\n",
    "##### Example 2:\n",
    "##### Input: nums1 = [4, 9, 5], nums2 = [9, 4, 9, 8, 4]\n",
    "##### Output: [9, 4]\n",
    "##### Example 3:\n",
    "##### Input: nums1 = [1, 3, 5, 7], nums2 = [2, 4, 6, 8]\n",
    "##### Output: []"
   ]
  },
  {
   "cell_type": "code",
   "execution_count": 24,
   "id": "44cbeeba-3ffc-49ec-a6b5-7de303c567e6",
   "metadata": {},
   "outputs": [
    {
     "name": "stdout",
     "output_type": "stream",
     "text": [
      "Common Elements are :  [2]\n",
      "Common Elements are :  [9, 4]\n",
      "Common Elements are :  []\n"
     ]
    }
   ],
   "source": [
    "from collections import Counter\n",
    "\n",
    "def common_elements(nums1, nums2):\n",
    "    count_dict = Counter(nums1) \n",
    "    common_elements = []\n",
    "\n",
    "    for num in nums2:\n",
    "        if count_dict[num] > 0: \n",
    "            common_elements.append(num)\n",
    "            count_dict[num] -= 1\n",
    "    \n",
    "    return list(set(common_elements))\n",
    "\n",
    "nums1 = [1, 2, 2, 1]\n",
    "nums2 = [2, 2]\n",
    "print(\"Common Elements are : \" , common_elements(nums1, nums2))\n",
    "\n",
    "nums1 = [4, 9, 5]\n",
    "nums2 = [9, 4, 9, 8, 4]\n",
    "print(\"Common Elements are : \" , common_elements(nums1, nums2))\n",
    "\n",
    "nums1 = [1, 3, 5, 7]\n",
    "nums2 = [2, 4, 6, 8]\n",
    "print(\"Common Elements are : \" , common_elements(nums1, nums2))"
   ]
  },
  {
   "cell_type": "code",
   "execution_count": null,
   "id": "ac135028-7bf9-4e66-a4cf-615414137ef5",
   "metadata": {},
   "outputs": [],
   "source": []
  }
 ],
 "metadata": {
  "kernelspec": {
   "display_name": "Python 3 (ipykernel)",
   "language": "python",
   "name": "python3"
  },
  "language_info": {
   "codemirror_mode": {
    "name": "ipython",
    "version": 3
   },
   "file_extension": ".py",
   "mimetype": "text/x-python",
   "name": "python",
   "nbconvert_exporter": "python",
   "pygments_lexer": "ipython3",
   "version": "3.12.3"
  }
 },
 "nbformat": 4,
 "nbformat_minor": 5
}
